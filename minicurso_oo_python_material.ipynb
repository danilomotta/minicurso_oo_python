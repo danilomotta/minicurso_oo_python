{
 "cells": [
  {
   "cell_type": "markdown",
   "metadata": {},
   "source": [
    "## Orientação à objeto em Python"
   ]
  },
  {
   "cell_type": "markdown",
   "metadata": {},
   "source": [
    "```python\n",
    "import AmazingLib as amz\n",
    "\n",
    "class object_oriented_python_presentation():\n",
    "\n",
    "\tdef __init__():\n",
    "\t\tself.ppt = amz.make_ppt()\n",
    "\n",
    "\tdef show(self):\n",
    "\t\tamz.deliver(self.ppt)\n",
    "\n",
    "\n",
    "oo = object_oriented_python()\n",
    "oo.show()\n",
    "```"
   ]
  },
  {
   "cell_type": "markdown",
   "metadata": {},
   "source": [
    "![conteudo](imgs/slide/Slide2.PNG)"
   ]
  },
  {
   "cell_type": "markdown",
   "metadata": {},
   "source": [
    "![abstracao](imgs/slide/Slide3.PNG)"
   ]
  },
  {
   "cell_type": "markdown",
   "metadata": {},
   "source": [
    "### Uma analogia seria que uma classe é como uma planta de uma casa:\n",
    "> Ela explica a estrutura da casa e de uma planta pode-se criar várias casas\n",
    "\n",
    "![conteudo](imgs/planta.png)"
   ]
  },
  {
   "cell_type": "markdown",
   "metadata": {},
   "source": [
    "### Criando uma classe em Python"
   ]
  },
  {
   "cell_type": "code",
   "execution_count": null,
   "metadata": {},
   "outputs": [],
   "source": [
    "import pandas as pd                     # we will use pandas to create better prints\n",
    "from IPython.display import display     # and display to show the DataFrames\n",
    "\n",
    "class Robot: # a palavra reservada class define o inicio de uma classe\n",
    "             # atributos e métodos devem ser declarados identados à classe\n",
    "        \n",
    "    # O método __init__ é o inicializador da classe e é chamado\n",
    "    # automaticamente após o objeto ser criado\n",
    "    def __init__(self, name, sound, num_limbs=4, state=\"alive\"): # self representa objeto da classe\n",
    "        # abaixo criamos os atributos da classe\n",
    "        self.name = name\n",
    "        self.sound = sound\n",
    "        self.num_limbs = num_limbs\n",
    "        self.state = state\n",
    "        # e podemos realizar ações como um print por exemplo\n",
    "        print(self.name+ '! It\\'s ALIVE!.')\n",
    "\n",
    "    def print(self):\n",
    "        display(pd.DataFrame.from_dict(data=vars(self), orient='index', columns=['values']))"
   ]
  },
  {
   "cell_type": "markdown",
   "metadata": {},
   "source": [
    "### Instanciando um objeto em Python"
   ]
  },
  {
   "cell_type": "code",
   "execution_count": null,
   "metadata": {},
   "outputs": [],
   "source": [
    "# Chamando a classe criamos um novo objeto, um novo robô\n",
    "# esse objeto é inicializado no método __init__\n",
    "bot1 = # Preencha aqui\n",
    "\n",
    "# chamando o método print do robô, printamos o DataFrame\n",
    "# Preencha aqui"
   ]
  },
  {
   "cell_type": "code",
   "execution_count": null,
   "metadata": {},
   "outputs": [],
   "source": [
    "# Podemos criar mais robôs e armazená-los em variáveis diferentes\n",
    "bot2 = # Preencha aqui\n",
    "# E esse terá um print com diferente do anterior\n",
    "# Preencha aqui"
   ]
  },
  {
   "cell_type": "markdown",
   "metadata": {},
   "source": [
    "### Cada objeto é armazenado em regiões de memória diferentes"
   ]
  },
  {
   "cell_type": "code",
   "execution_count": null,
   "metadata": {},
   "outputs": [],
   "source": [
    "class Robot:\n",
    "\n",
    "    def __init__(self, name, sound, num_limbs=4, state=\"alive\"):\n",
    "        self.name = name\n",
    "        self.sound = sound\n",
    "        self.num_limbs = num_limbs\n",
    "        self.state = state\n",
    "        print(self.name+ '! It\\'s ALIVE!.')\n",
    "\n",
    "    def lose_limb(self):\n",
    "        self.state = \"losing limbs\"\n",
    "        self.num_limbs -= 1\n",
    "        \n",
    "    def print(self):\n",
    "        display(pd.DataFrame.from_dict(data=vars(self), orient='index', columns=['values']))"
   ]
  },
  {
   "cell_type": "code",
   "execution_count": null,
   "metadata": {},
   "outputs": [],
   "source": [
    "bot1 = Robot(\"Johnny-5\", \"Number 5 is alive.\")\n",
    "bot2 = Robot(\"T-800\", \"Hasta la vista baby\")\n",
    "\n",
    "# o método lose_limb altera um dos atributos do objeto\n",
    "# Preencha aqui\n",
    "\n",
    "bot1.print()\n",
    "bot2.print()"
   ]
  },
  {
   "cell_type": "markdown",
   "metadata": {},
   "source": [
    "### Herança\n",
    "Vamos tentar implementar um desses:\n",
    "![happy_doggo](imgs/happy_doggo.png)"
   ]
  },
  {
   "cell_type": "code",
   "execution_count": null,
   "metadata": {},
   "outputs": [],
   "source": [
    "# Dizemos que DogBot extende Robot, possui os mesmos \n",
    "# métodos e atributos que Robot\n",
    "class DogBot(Robot): \n",
    "    # Mas podemos alterar para que sobrescrevamos comportamentos\n",
    "    # ou valores que desejamos que sejam diferentes\n",
    "    def __init__(self, name, age, legs=4):\n",
    "        # o método super() chama o inicializador da \"Super Classe\" ou \"Classe Pai\"\n",
    "        super().__init__(name, \"bark, bark\", legs) \n",
    "        self.age = age\n",
    "    \n",
    "    def bark(self, sound=None):\n",
    "        self.state = \"barking\"\n",
    "        print(self.name + \" is barking.\")\n",
    "        if sound!=None:\n",
    "            print(sound)\n",
    "        else:\n",
    "            print(self.sound)\n",
    "    \n",
    "    def play(self):\n",
    "        self.state = \"playing\"\n",
    "        print(self.name + \" is playing.\")\n",
    "    \n",
    "    def sleep(self):\n",
    "        self.state = \"sleeping\"\n",
    "        print(self.name + \" is sleeping.\")\n",
    "    \n",
    "    def doginfo(self):\n",
    "        print(self.name + \" is \" + str(self.age) + \" year(s) old.\")\n",
    "        \n",
    "    def print_state(self):\n",
    "        print(self.name + \" is \" + self.state + \".\")\n",
    "    \n",
    "    def birthday(self):\n",
    "        self.age += 1"
   ]
  },
  {
   "cell_type": "code",
   "execution_count": null,
   "metadata": {},
   "outputs": [],
   "source": [
    "dog_spot = # Preencha aqui\n",
    "# podemos chamar um método específico do objeto DogBot\n",
    "# Preencha aqui"
   ]
  },
  {
   "cell_type": "code",
   "execution_count": null,
   "metadata": {},
   "outputs": [],
   "source": [
    "# mas também reaproveitamos os métodos e atributos de Robot\n",
    "# Preencha aqui"
   ]
  },
  {
   "cell_type": "markdown",
   "metadata": {},
   "source": [
    "### Polimorfismo"
   ]
  },
  {
   "cell_type": "markdown",
   "metadata": {},
   "source": [
    "Agora digamos que o gerente pediu uma versão mais específica:\n",
    "![angry_doggo](imgs/angry_doggo.png)"
   ]
  },
  {
   "cell_type": "code",
   "execution_count": null,
   "metadata": {},
   "outputs": [],
   "source": [
    "class PinscherBot(DogBot):\n",
    "    \n",
    "    def play(self):\n",
    "        self.bark(\"bark\"*190)\n",
    "        self.state = \"RAGE\""
   ]
  },
  {
   "cell_type": "markdown",
   "metadata": {},
   "source": [
    "Agora os objetos da classe PinscherBot possuem os métodos e atributos de DogBot, porém o método play dele tem comportamento próprio.\n",
    "\n",
    "Mas não está faltando o ```__init__()```? Não, nesse caso se não definido o Python chama o inicializador da super classe (clase pai)"
   ]
  },
  {
   "cell_type": "code",
   "execution_count": null,
   "metadata": {},
   "outputs": [],
   "source": [
    "dog_jun = # Preencha aqui\n",
    "# observe que ao chamar o método play, o executado é o play de PincherBot e não DogBot\n",
    "# apesar do mesmo nome\n",
    "dog_jun.play()\n",
    "dog_jun.print()"
   ]
  },
  {
   "cell_type": "markdown",
   "metadata": {},
   "source": [
    "### Encapsulamento"
   ]
  },
  {
   "cell_type": "code",
   "execution_count": null,
   "metadata": {},
   "outputs": [],
   "source": [
    "dog_jev = DogBot(\"Jeeves\", 5)\n",
    "\n",
    "dog_jev.num_limbs = 8\n",
    "dog_jev.state = \"Bamboozled\"\n",
    "\n",
    "# Então um usuário tem uma ideia para\n",
    "# um novo estado revolucionário e disruptivo\n",
    "dog_jev.state = 29079047129470\n",
    "\n",
    "dog_jev.print_state()"
   ]
  },
  {
   "cell_type": "markdown",
   "metadata": {},
   "source": [
    "Como resultado temos:\n",
    "![encapsulamento](imgs/jeeves.png)"
   ]
  },
  {
   "cell_type": "markdown",
   "metadata": {},
   "source": [
    "Iremos usar de encapsulamento pra proteger os atributos e métodos que não queremos que sejam acessados diretamente"
   ]
  },
  {
   "cell_type": "markdown",
   "metadata": {},
   "source": [
    "Atributo **protegido** ```_atributo```\n",
    "\n",
    "Método **protegido** ```_metodo()```\n",
    "\n",
    "Atributo **privado** ```__atributo```\n",
    "\n",
    "Método **privado** ```__metodo()```\n",
    "\n",
    "também chamados na literatura de **privado** e **fortemente privado**"
   ]
  },
  {
   "cell_type": "code",
   "execution_count": null,
   "metadata": {},
   "outputs": [],
   "source": [
    "class Robot:\n",
    "\n",
    "    def __init__(self, name, sound, num_limbs=4, state=\"alive\"):\n",
    "        self.__name = name\n",
    "        self.__sound = sound\n",
    "        self.__num_limbs = num_limbs\n",
    "        self.__state = state\n",
    "        print(self.__name+ '! It\\'s ALIVE!.')\n",
    "\n",
    "    def lose_limb(self):\n",
    "        self.__state = \"losing limbs\"\n",
    "        self.__num_limbs -= 1\n",
    "        \n",
    "    def print(self):\n",
    "        display(pd.DataFrame.from_dict(data=vars(self), orient='index', columns=['values']))\n",
    "\n",
    "class DogBot(Robot):\n",
    "\n",
    "    def __init__(self, name, age, legs=4):\n",
    "        super().__init__(name, \"Hi, I\\'m a dog!\", legs)\n",
    "        self.__num_limbs\n",
    "        self.__age = age\n",
    "\n",
    "        print(self.name + \" the dog has arrived.\")\n",
    "\n",
    "    def bark(self):\n",
    "        self.__state = \"barking\"\n",
    "        self.says(\"bark bark!\")\n",
    "\n",
    "    def play(self):\n",
    "        self.__state = \"playing\"\n",
    "        print(self.__name + \" is playing.\")\n",
    "\n",
    "    def sleep(self):\n",
    "        self.__state = \"sleeping\"\n",
    "        print(self.__name + \" is sleeping.\")\n",
    "\n",
    "    def doginfo(self):\n",
    "        print(self.__name + \" is \" + str(self.__age) + \" year(s) old.\")\n",
    "\n",
    "    def birthday(self):\n",
    "        self.__age += 1"
   ]
  },
  {
   "cell_type": "code",
   "execution_count": null,
   "metadata": {},
   "outputs": [],
   "source": [
    "dog_jev = DogBot(\"Jeeves\", 5)\n",
    "\n",
    "dog_jev.__num_limbs = # Preencha aqui"
   ]
  },
  {
   "cell_type": "markdown",
   "metadata": {},
   "source": [
    "Beleza, agora temos:\n",
    "![protected_doggo](imgs/protected_doggo.png)"
   ]
  },
  {
   "cell_type": "markdown",
   "metadata": {},
   "source": [
    "Ok, mas e se quisermos que o usuário altere esses atributos mas checando se os valores são válidos por exemplo?"
   ]
  },
  {
   "cell_type": "markdown",
   "metadata": {},
   "source": [
    "Para acessar esses atributos usamos Getters e Setters que são métodos com objetivo de manter esse acesso controlado.\n",
    "\n",
    "Em Python temos duas opções de como implementar getters e setters:"
   ]
  },
  {
   "cell_type": "markdown",
   "metadata": {},
   "source": [
    "#### Getter e setters: maneira mais simples"
   ]
  },
  {
   "cell_type": "code",
   "execution_count": null,
   "metadata": {},
   "outputs": [],
   "source": [
    "class Human():\n",
    "    def __init__(self):\n",
    "        self.__name = ''\n",
    "\n",
    "    def set_name(self, name):\n",
    "        if isinstance(name, str):\n",
    "            self.__name = name\n",
    "        else:\n",
    "            raise ValueError(\"Don't mess with my human: name should be str!\")\n",
    "            \n",
    "    def get_name(self):\n",
    "        return self.__name"
   ]
  },
  {
   "cell_type": "code",
   "execution_count": null,
   "metadata": {},
   "outputs": [],
   "source": [
    "dropped_the_oven_girl = Human()\n",
    "dropped_the_oven_girl.set_name(#Preencha aqui)\n",
    "\n",
    "print('The the name of the girl who dropped the oven is ' + dropped_the_oven_girl.get_name())\n",
    "# Tente acessar o nome usando: dropped_the_oven_girl.__name\n",
    "# Preencha aqui"
   ]
  },
  {
   "cell_type": "markdown",
   "metadata": {},
   "source": [
    "#### Getter e setters: maneira mais pythonica"
   ]
  },
  {
   "cell_type": "code",
   "execution_count": null,
   "metadata": {},
   "outputs": [],
   "source": [
    "class Human():\n",
    "    def __init__(self):\n",
    "        self.__name = ''\n",
    "\n",
    "    @property\n",
    "    def name(self):\n",
    "        return self.__name\n",
    "\n",
    "    @name.setter\n",
    "    def name(self, value):\n",
    "        if isinstance(value, str):\n",
    "            self.__name = value\n",
    "        else:\n",
    "            raise ValueError(\"Don't mess with my human: name should be str!\")"
   ]
  },
  {
   "cell_type": "code",
   "execution_count": null,
   "metadata": {},
   "outputs": [],
   "source": [
    "balloon_priest = Human()\n",
    "balloon_priest.name = 'Adelir'\n",
    "\n",
    "print('The balloon priest name is ' + balloon_priest.name)\n",
    "\n",
    "# Tente settar o nome usando: balloon_priest.name = []\n",
    "# Preencha aqui"
   ]
  },
  {
   "cell_type": "markdown",
   "metadata": {},
   "source": [
    "### Docstrings + Type hints + Default params"
   ]
  },
  {
   "cell_type": "code",
   "execution_count": null,
   "metadata": {},
   "outputs": [],
   "source": [
    "class Robot:\n",
    "    \"\"\"\n",
    "    A class used to represent a Robot\n",
    "\n",
    "    ...\n",
    "\n",
    "    Attributes\n",
    "    ----------\n",
    "    says_str : str\n",
    "        a formatted string to print out what the robot says\n",
    "    name : str\n",
    "        the name of the robot\n",
    "    sound : str\n",
    "        the sound that the robot makes\n",
    "    num_legs : int\n",
    "        the number of legs the robot has (default 4)\n",
    "\n",
    "    Methods\n",
    "    -------\n",
    "    says(sound=None)\n",
    "        Prints the robots name and what sound it makes\n",
    "    \"\"\"\n",
    "\n",
    "    says_str = \"{name} says {sound}\"\n",
    "\n",
    "    def __init__(self, name: str, sound: str, num_legs: int = 4, state: str = \"alive\"):\n",
    "        \"\"\"\n",
    "        Parameters\n",
    "        ----------\n",
    "        name : str\n",
    "            The name of the robot\n",
    "        sound : str\n",
    "            The sound the robot makes\n",
    "        num_legs : int, optional\n",
    "            The number of legs the robot (default is 4)\n",
    "        \"\"\"\n",
    "\n",
    "        self.name = name\n",
    "        self.sound = sound\n",
    "        self.num_legs = num_legs\n",
    "        self.state = state\n",
    "\n",
    "    def says(self, sound: str = None) -> None:\n",
    "        \"\"\"Prints what the robot name is and what sound it makes.\n",
    "\n",
    "        If the argument `sound` isn't passed in, the default Robot\n",
    "        sound is used.\n",
    "\n",
    "        Parameters\n",
    "        ----------\n",
    "        sound : str, optional\n",
    "            The sound the robot makes (default is None)\n",
    "\n",
    "        Raises\n",
    "        ------\n",
    "        NotImplementedError\n",
    "            If no sound is set for the robot or passed in as a\n",
    "            parameter.\n",
    "        \"\"\"\n",
    "\n",
    "        if self.sound is None and sound is None:\n",
    "            raise NotImplementedError(\"Silent Robots are not supported!\")\n",
    "\n",
    "        out_sound = self.sound if sound is None else sound\n",
    "        print(self.says_str.format(name=self.name, sound=out_sound))"
   ]
  },
  {
   "cell_type": "markdown",
   "metadata": {},
   "source": [
    "Digite:\n",
    "\n",
    "Robot. \n",
    "\n",
    "e aperte shift+Tab "
   ]
  },
  {
   "cell_type": "code",
   "execution_count": null,
   "metadata": {},
   "outputs": [],
   "source": [
    "# Preencha aqui"
   ]
  },
  {
   "cell_type": "markdown",
   "metadata": {},
   "source": [
    "**MAGIC**\n",
    "\n",
    "Tente também:"
   ]
  },
  {
   "cell_type": "code",
   "execution_count": null,
   "metadata": {},
   "outputs": [],
   "source": [
    "new_bot = Robot(\"new bot\", \"bip bop\")"
   ]
  },
  {
   "cell_type": "markdown",
   "metadata": {},
   "source": [
    "Coloque o cursor dentro dos parênteses e aperte shift+TAB"
   ]
  },
  {
   "cell_type": "code",
   "execution_count": null,
   "metadata": {},
   "outputs": [],
   "source": [
    "new_bot.says()"
   ]
  },
  {
   "cell_type": "markdown",
   "metadata": {},
   "source": [
    "### Exemplos"
   ]
  },
  {
   "cell_type": "code",
   "execution_count": null,
   "metadata": {},
   "outputs": [],
   "source": [
    "class Account():\n",
    "    def __init__(self, account, client_id):\n",
    "        self.balance = 0\n",
    "        self.client_id = client_id\n",
    "        self.account = account\n",
    "\n",
    "    def deposit(self, amount):\n",
    "        self.balance += amount\n",
    "\n",
    "    def withdrawn(self, amount):\n",
    "        self.balance -= amount\n",
    "        return amount\n",
    "    \n",
    "    def print_balance(self):\n",
    "        print('Balance: '+str(self.balance))\n",
    "\n",
    "# Instaciamos um objeto de conta pro cliente Franklin\n",
    "frpedfr_acc = Account(66450, 250124821)\n",
    "# Instaciamos um objeto de conta pro cliente Kleber\n",
    "ykleber_acc = Account(55131, 923749522)\n",
    "\n",
    "# Cliente Franklin recebe seu salário milionário\n",
    "frpedfr_acc.deposit(1000000)\n",
    "# Cliente Franklin saca 10 reais\n",
    "transf = frpedfr_acc.withdrawn(10)\n",
    "# E paga uma dívida ao cliente Kleber\n",
    "ykleber_acc.deposit(transf)\n",
    "\n",
    "frpedfr_acc.print_balance()\n",
    "ykleber_acc.print_balance()"
   ]
  },
  {
   "cell_type": "markdown",
   "metadata": {},
   "source": [
    "### Importando e usando uma classe em arquivo .py"
   ]
  },
  {
   "cell_type": "code",
   "execution_count": null,
   "metadata": {},
   "outputs": [],
   "source": [
    "from sklearn.neural_network import MLPClassifier\n",
    "from sklearn.linear_model import LogisticRegression\n",
    "from sklearn.tree import DecisionTreeClassifier\n",
    "from sklearn.ensemble import RandomForestClassifier\n",
    "from sklearn.preprocessing import RobustScaler\n",
    "from sklearn.pipeline import Pipeline\n",
    "from sklearn.model_selection import cross_validate\n",
    "from sklearn.datasets import load_breast_cancer\n",
    "%matplotlib inline"
   ]
  },
  {
   "cell_type": "code",
   "execution_count": null,
   "metadata": {},
   "outputs": [],
   "source": [
    "from MLArchive.ml_archive import MLArchive"
   ]
  },
  {
   "cell_type": "code",
   "execution_count": null,
   "metadata": {},
   "outputs": [],
   "source": [
    "arch = MLArchive()"
   ]
  },
  {
   "cell_type": "code",
   "execution_count": null,
   "metadata": {},
   "outputs": [],
   "source": [
    "X, y = load_breast_cancer(return_X_y=True)"
   ]
  },
  {
   "cell_type": "code",
   "execution_count": null,
   "metadata": {},
   "outputs": [],
   "source": [
    "names = [\"Decision Tree\", \"Log reg\", \"Neural Net\", \"Random Forest\"]\n",
    "\n",
    "classifiers = [\n",
    "    DecisionTreeClassifier(max_depth=16),\n",
    "    LogisticRegression(C=0.0001,max_iter=10000, \n",
    "             intercept_scaling=False,\n",
    "             fit_intercept=False),\n",
    "    Pipeline([('scaler', RobustScaler()),\n",
    "              ('mlp', MLPClassifier(alpha=0.5,\n",
    "                                    hidden_layer_sizes=(64,4),\n",
    "                                    activation='relu',\n",
    "                                    max_iter=100000,\n",
    "                                    validation_fraction=0.3,\n",
    "                                    early_stopping=True, \n",
    "                                    random_state=42))]),\n",
    "    RandomForestClassifier(max_depth=8, n_estimators=50, \n",
    "                           max_samples=0.7, random_state=42)]"
   ]
  },
  {
   "cell_type": "code",
   "execution_count": null,
   "metadata": {},
   "outputs": [],
   "source": [
    "# iterate over classifiers\n",
    "print('------------------------------------------------')\n",
    "for name, clf in zip(names, classifiers):\n",
    "    cv_results = cross_validate(clf, X, y, cv=5,\n",
    "                                return_train_score=True)\n",
    "    print(name + ' train: ' + ('%.2f' % cv_results['train_score'].mean()).lstrip('0'))\n",
    "    print(name + ' test: ' + ('%.2f' % cv_results['test_score'].mean()).lstrip('0'))\n",
    "    \n",
    "    # archive model\n",
    "    arch.save_model(clf, metric='F1', \n",
    "        train_res=cv_results['train_score'].mean(), \n",
    "        test_res=cv_results['test_score'].mean())\n",
    "    print('------------------------------------------------')\n",
    "# write archive\n",
    "arch.save_archive('MLModel.arch')"
   ]
  },
  {
   "cell_type": "code",
   "execution_count": null,
   "metadata": {},
   "outputs": [],
   "source": [
    "arch.get_ranked_models()"
   ]
  },
  {
   "cell_type": "code",
   "execution_count": null,
   "metadata": {
    "scrolled": true
   },
   "outputs": [],
   "source": [
    "arch.plot_history();"
   ]
  },
  {
   "cell_type": "markdown",
   "metadata": {},
   "source": [
    "### Finalizando"
   ]
  },
  {
   "cell_type": "markdown",
   "metadata": {},
   "source": [
    "Falamos sobre:\n",
    "1. Classes\n",
    "2. Métodos\n",
    "3. Atributos\n",
    "4. Docstrings\n",
    "5. Typing hints\n",
    "6. Default params\n",
    "\n",
    "\n",
    "Here comes a new challenger!\n",
    "No próximo episódio:\n",
    "1. @staticmethod\n",
    "2. @classmethod\n",
    "3. Magic methods\n",
    "4. Assertion\n",
    "5. Errors\n",
    "6. Maps\n",
    "7. Iterators\n",
    "8. Generators\n",
    "9. transforms\n",
    "10. Logging\n",
    "11. Tests\n",
    "12. Eficiência\n",
    "\n",
    "Entre outros..."
   ]
  },
  {
   "cell_type": "markdown",
   "metadata": {},
   "source": [
    "### Mais informações e bibliografia"
   ]
  },
  {
   "cell_type": "markdown",
   "metadata": {},
   "source": [
    "https://python.swaroopch.com/oop.html\n",
    "\n",
    "https://python-textbok.readthedocs.io/en/1.0/Classes.html\n",
    "\n",
    "https://www.datacamp.com/community/tutorials/python-oop-tutorial\n",
    "\n",
    "http://www.lcad.icmc.usp.br/~jbatista/sce537/mat/aula06_heranca.pdf"
   ]
  }
 ],
 "metadata": {
  "kernelspec": {
   "display_name": "Python 3",
   "language": "python",
   "name": "python3"
  },
  "language_info": {
   "codemirror_mode": {
    "name": "ipython",
    "version": 3
   },
   "file_extension": ".py",
   "mimetype": "text/x-python",
   "name": "python",
   "nbconvert_exporter": "python",
   "pygments_lexer": "ipython3",
   "version": "3.7.6"
  }
 },
 "nbformat": 4,
 "nbformat_minor": 4
}
