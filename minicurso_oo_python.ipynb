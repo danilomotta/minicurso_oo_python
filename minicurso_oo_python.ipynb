{
 "cells": [
  {
   "cell_type": "markdown",
   "metadata": {},
   "source": [
    "## Orientação à objeto em Python"
   ]
  },
  {
   "cell_type": "markdown",
   "metadata": {},
   "source": [
    "```python\n",
    "import AmazingLib as amz\n",
    "\n",
    "class object_oriented_python_presentation():\n",
    "\n",
    "\tdef __init__():\n",
    "\t\tself.ppt = amz.make_ppt()\n",
    "\n",
    "\tdef show(self):\n",
    "\t\tamz.deliver(self.ppt)\n",
    "\n",
    "\n",
    "oo = object_oriented_python()\n",
    "oo.show()\n",
    "```"
   ]
  },
  {
   "cell_type": "markdown",
   "metadata": {},
   "source": [
    "![conteudo](imgs/slide/Slide2.PNG)"
   ]
  },
  {
   "cell_type": "markdown",
   "metadata": {},
   "source": [
    "![abstracao](imgs/slide/Slide3.PNG)"
   ]
  },
  {
   "cell_type": "markdown",
   "metadata": {},
   "source": [
    "### Criando uma classe em Python"
   ]
  },
  {
   "cell_type": "code",
   "execution_count": 1,
   "metadata": {},
   "outputs": [],
   "source": [
    "import pandas as pd                     # we will use pandas to create better prints\n",
    "from IPython.display import display     # and display to show the DataFrames\n",
    "\n",
    "class Robot:\n",
    "\n",
    "    def __init__(self, name, sound, num_limbs=4, state=\"alive\"):\n",
    "        self.name = name\n",
    "        self.sound = sound\n",
    "        self.num_limbs = num_limbs\n",
    "        self.state = state\n",
    "        print(self.name+ ' it\\'s ALIVE!.')\n",
    "\n",
    "    def print(self):\n",
    "        display(pd.DataFrame.from_dict(data=vars(self), orient='index', columns=['values']))"
   ]
  },
  {
   "cell_type": "markdown",
   "metadata": {},
   "source": [
    "### Instanciando um objeto em Python"
   ]
  },
  {
   "cell_type": "code",
   "execution_count": 2,
   "metadata": {},
   "outputs": [
    {
     "name": "stdout",
     "output_type": "stream",
     "text": [
      "Johnny-5 it's ALIVE!.\n"
     ]
    },
    {
     "data": {
      "text/html": [
       "<div>\n",
       "<style scoped>\n",
       "    .dataframe tbody tr th:only-of-type {\n",
       "        vertical-align: middle;\n",
       "    }\n",
       "\n",
       "    .dataframe tbody tr th {\n",
       "        vertical-align: top;\n",
       "    }\n",
       "\n",
       "    .dataframe thead th {\n",
       "        text-align: right;\n",
       "    }\n",
       "</style>\n",
       "<table border=\"1\" class=\"dataframe\">\n",
       "  <thead>\n",
       "    <tr style=\"text-align: right;\">\n",
       "      <th></th>\n",
       "      <th>values</th>\n",
       "    </tr>\n",
       "  </thead>\n",
       "  <tbody>\n",
       "    <tr>\n",
       "      <th>name</th>\n",
       "      <td>Johnny-5</td>\n",
       "    </tr>\n",
       "    <tr>\n",
       "      <th>sound</th>\n",
       "      <td>Number 5 is alive.</td>\n",
       "    </tr>\n",
       "    <tr>\n",
       "      <th>num_limbs</th>\n",
       "      <td>4</td>\n",
       "    </tr>\n",
       "    <tr>\n",
       "      <th>state</th>\n",
       "      <td>alive</td>\n",
       "    </tr>\n",
       "  </tbody>\n",
       "</table>\n",
       "</div>"
      ],
      "text/plain": [
       "                       values\n",
       "name                 Johnny-5\n",
       "sound      Number 5 is alive.\n",
       "num_limbs                   4\n",
       "state                   alive"
      ]
     },
     "metadata": {},
     "output_type": "display_data"
    }
   ],
   "source": [
    "bot1 = Robot(\"Johnny-5\", \"Number 5 is alive.\")\n",
    "bot1.print()"
   ]
  },
  {
   "cell_type": "code",
   "execution_count": 3,
   "metadata": {},
   "outputs": [
    {
     "name": "stdout",
     "output_type": "stream",
     "text": [
      "T-800 it's ALIVE!.\n"
     ]
    },
    {
     "data": {
      "text/html": [
       "<div>\n",
       "<style scoped>\n",
       "    .dataframe tbody tr th:only-of-type {\n",
       "        vertical-align: middle;\n",
       "    }\n",
       "\n",
       "    .dataframe tbody tr th {\n",
       "        vertical-align: top;\n",
       "    }\n",
       "\n",
       "    .dataframe thead th {\n",
       "        text-align: right;\n",
       "    }\n",
       "</style>\n",
       "<table border=\"1\" class=\"dataframe\">\n",
       "  <thead>\n",
       "    <tr style=\"text-align: right;\">\n",
       "      <th></th>\n",
       "      <th>values</th>\n",
       "    </tr>\n",
       "  </thead>\n",
       "  <tbody>\n",
       "    <tr>\n",
       "      <th>name</th>\n",
       "      <td>T-800</td>\n",
       "    </tr>\n",
       "    <tr>\n",
       "      <th>sound</th>\n",
       "      <td>Hasta la vista baby</td>\n",
       "    </tr>\n",
       "    <tr>\n",
       "      <th>num_limbs</th>\n",
       "      <td>4</td>\n",
       "    </tr>\n",
       "    <tr>\n",
       "      <th>state</th>\n",
       "      <td>alive</td>\n",
       "    </tr>\n",
       "  </tbody>\n",
       "</table>\n",
       "</div>"
      ],
      "text/plain": [
       "                        values\n",
       "name                     T-800\n",
       "sound      Hasta la vista baby\n",
       "num_limbs                    4\n",
       "state                    alive"
      ]
     },
     "metadata": {},
     "output_type": "display_data"
    }
   ],
   "source": [
    "bot2 = Robot(\"T-800\", \"Hasta la vista baby\")\n",
    "bot2.print()"
   ]
  },
  {
   "cell_type": "markdown",
   "metadata": {},
   "source": [
    "### Um objeto possui atributos de instância separados em regiões de memória diferentes"
   ]
  },
  {
   "cell_type": "code",
   "execution_count": 4,
   "metadata": {},
   "outputs": [],
   "source": [
    "class Robot:\n",
    "\n",
    "    def __init__(self, name, sound, num_limbs=4, state=\"alive\"):\n",
    "        self.name = name\n",
    "        self.sound = sound\n",
    "        self.num_limbs = num_limbs\n",
    "        self.state = state\n",
    "        print(self.name+ ' it\\'s ALIVE!.')\n",
    "\n",
    "    def lose_limb(self):\n",
    "        self.state = \"losing limbs\"\n",
    "        self.num_limbs -= 1\n",
    "        \n",
    "    def print(self):\n",
    "        display(pd.DataFrame.from_dict(data=vars(self), orient='index', columns=['values']))"
   ]
  },
  {
   "cell_type": "code",
   "execution_count": 5,
   "metadata": {},
   "outputs": [
    {
     "name": "stdout",
     "output_type": "stream",
     "text": [
      "Johnny-5 it's ALIVE!.\n",
      "T-800 it's ALIVE!.\n"
     ]
    },
    {
     "data": {
      "text/html": [
       "<div>\n",
       "<style scoped>\n",
       "    .dataframe tbody tr th:only-of-type {\n",
       "        vertical-align: middle;\n",
       "    }\n",
       "\n",
       "    .dataframe tbody tr th {\n",
       "        vertical-align: top;\n",
       "    }\n",
       "\n",
       "    .dataframe thead th {\n",
       "        text-align: right;\n",
       "    }\n",
       "</style>\n",
       "<table border=\"1\" class=\"dataframe\">\n",
       "  <thead>\n",
       "    <tr style=\"text-align: right;\">\n",
       "      <th></th>\n",
       "      <th>values</th>\n",
       "    </tr>\n",
       "  </thead>\n",
       "  <tbody>\n",
       "    <tr>\n",
       "      <th>name</th>\n",
       "      <td>Johnny-5</td>\n",
       "    </tr>\n",
       "    <tr>\n",
       "      <th>sound</th>\n",
       "      <td>Number 5 is alive.</td>\n",
       "    </tr>\n",
       "    <tr>\n",
       "      <th>num_limbs</th>\n",
       "      <td>4</td>\n",
       "    </tr>\n",
       "    <tr>\n",
       "      <th>state</th>\n",
       "      <td>alive</td>\n",
       "    </tr>\n",
       "  </tbody>\n",
       "</table>\n",
       "</div>"
      ],
      "text/plain": [
       "                       values\n",
       "name                 Johnny-5\n",
       "sound      Number 5 is alive.\n",
       "num_limbs                   4\n",
       "state                   alive"
      ]
     },
     "metadata": {},
     "output_type": "display_data"
    },
    {
     "data": {
      "text/html": [
       "<div>\n",
       "<style scoped>\n",
       "    .dataframe tbody tr th:only-of-type {\n",
       "        vertical-align: middle;\n",
       "    }\n",
       "\n",
       "    .dataframe tbody tr th {\n",
       "        vertical-align: top;\n",
       "    }\n",
       "\n",
       "    .dataframe thead th {\n",
       "        text-align: right;\n",
       "    }\n",
       "</style>\n",
       "<table border=\"1\" class=\"dataframe\">\n",
       "  <thead>\n",
       "    <tr style=\"text-align: right;\">\n",
       "      <th></th>\n",
       "      <th>values</th>\n",
       "    </tr>\n",
       "  </thead>\n",
       "  <tbody>\n",
       "    <tr>\n",
       "      <th>name</th>\n",
       "      <td>T-800</td>\n",
       "    </tr>\n",
       "    <tr>\n",
       "      <th>sound</th>\n",
       "      <td>Hasta la vista baby</td>\n",
       "    </tr>\n",
       "    <tr>\n",
       "      <th>num_limbs</th>\n",
       "      <td>3</td>\n",
       "    </tr>\n",
       "    <tr>\n",
       "      <th>state</th>\n",
       "      <td>losing limbs</td>\n",
       "    </tr>\n",
       "  </tbody>\n",
       "</table>\n",
       "</div>"
      ],
      "text/plain": [
       "                        values\n",
       "name                     T-800\n",
       "sound      Hasta la vista baby\n",
       "num_limbs                    3\n",
       "state             losing limbs"
      ]
     },
     "metadata": {},
     "output_type": "display_data"
    }
   ],
   "source": [
    "bot1 = Robot(\"Johnny-5\", \"Number 5 is alive.\")\n",
    "bot2 = Robot(\"T-800\", \"Hasta la vista baby\")\n",
    "\n",
    "bot2.lose_limb()\n",
    "\n",
    "bot1.print()\n",
    "bot2.print()"
   ]
  },
  {
   "cell_type": "markdown",
   "metadata": {},
   "source": [
    "### Herança\n",
    "Vamos tentar implementar um desses:\n",
    "![happy_doggo](imgs/happy_doggo.png)"
   ]
  },
  {
   "cell_type": "code",
   "execution_count": 6,
   "metadata": {},
   "outputs": [],
   "source": [
    "class DogBot(Robot):\n",
    "\n",
    "    def __init__(self, name, age, legs=4):\n",
    "        super().__init__(name, \"bark, bark\", legs)\n",
    "        self.age = age\n",
    "    \n",
    "    def bark(self, sound=None):\n",
    "        self.state = \"barking\"\n",
    "        print(self.name + \" is barking.\")\n",
    "        if sound!=None:\n",
    "            print(sound)\n",
    "        else:\n",
    "            print(self.sound)\n",
    "    \n",
    "    def play(self):\n",
    "        self.state = \"playing\"\n",
    "        print(self.name + \" is playing.\")\n",
    "    \n",
    "    def sleep(self):\n",
    "        self.state = \"sleeping\"\n",
    "        print(self.name + \" is sleeping.\")\n",
    "    \n",
    "    def doginfo(self):\n",
    "        print(self.name + \" is \" + str(self.age) + \" year(s) old.\")\n",
    "    \n",
    "    def birthday(self):\n",
    "        self.age += 1"
   ]
  },
  {
   "cell_type": "code",
   "execution_count": 7,
   "metadata": {},
   "outputs": [
    {
     "name": "stdout",
     "output_type": "stream",
     "text": [
      "Spot it's ALIVE!.\n",
      "Spot is barking.\n",
      "bark, bark\n"
     ]
    }
   ],
   "source": [
    "dog_spot = DogBot(\"Spot\", 1)\n",
    "dog_spot.bark()"
   ]
  },
  {
   "cell_type": "code",
   "execution_count": 8,
   "metadata": {},
   "outputs": [
    {
     "name": "stdout",
     "output_type": "stream",
     "text": [
      "Spot is sleeping.\n"
     ]
    },
    {
     "data": {
      "text/html": [
       "<div>\n",
       "<style scoped>\n",
       "    .dataframe tbody tr th:only-of-type {\n",
       "        vertical-align: middle;\n",
       "    }\n",
       "\n",
       "    .dataframe tbody tr th {\n",
       "        vertical-align: top;\n",
       "    }\n",
       "\n",
       "    .dataframe thead th {\n",
       "        text-align: right;\n",
       "    }\n",
       "</style>\n",
       "<table border=\"1\" class=\"dataframe\">\n",
       "  <thead>\n",
       "    <tr style=\"text-align: right;\">\n",
       "      <th></th>\n",
       "      <th>values</th>\n",
       "    </tr>\n",
       "  </thead>\n",
       "  <tbody>\n",
       "    <tr>\n",
       "      <th>name</th>\n",
       "      <td>Spot</td>\n",
       "    </tr>\n",
       "    <tr>\n",
       "      <th>sound</th>\n",
       "      <td>bark, bark</td>\n",
       "    </tr>\n",
       "    <tr>\n",
       "      <th>num_limbs</th>\n",
       "      <td>4</td>\n",
       "    </tr>\n",
       "    <tr>\n",
       "      <th>state</th>\n",
       "      <td>sleeping</td>\n",
       "    </tr>\n",
       "    <tr>\n",
       "      <th>age</th>\n",
       "      <td>2</td>\n",
       "    </tr>\n",
       "  </tbody>\n",
       "</table>\n",
       "</div>"
      ],
      "text/plain": [
       "               values\n",
       "name             Spot\n",
       "sound      bark, bark\n",
       "num_limbs           4\n",
       "state        sleeping\n",
       "age                 2"
      ]
     },
     "metadata": {},
     "output_type": "display_data"
    }
   ],
   "source": [
    "dog_spot.birthday()\n",
    "dog_spot.sleep()\n",
    "dog_spot.print()"
   ]
  },
  {
   "cell_type": "markdown",
   "metadata": {},
   "source": [
    "### Polimorfismo"
   ]
  },
  {
   "cell_type": "markdown",
   "metadata": {},
   "source": [
    "Agora digamos que o gerente pediu uma versão mais específica:\n",
    "![angry_doggo](imgs/angry_doggo.png)"
   ]
  },
  {
   "cell_type": "code",
   "execution_count": 9,
   "metadata": {},
   "outputs": [],
   "source": [
    "class PinscherBot(DogBot):\n",
    "    def play(self):\n",
    "        self.bark(\"bark\"*190)\n",
    "        self.state = \"RAGE\""
   ]
  },
  {
   "cell_type": "markdown",
   "metadata": {},
   "source": [
    "Agora os objetos da classe PinscherBot possuem os métodos e atributos de DogBot, porém o método play dele tem comportamento próprio.\n",
    "\n",
    "Mas não está faltando o ```__init__()```? Não, nesse caso se não definido o Python chama o inicializador da super classe (clase pai)"
   ]
  },
  {
   "cell_type": "code",
   "execution_count": 10,
   "metadata": {},
   "outputs": [
    {
     "name": "stdout",
     "output_type": "stream",
     "text": [
      "Juninho it's ALIVE!.\n",
      "Juninho is barking.\n",
      "barkbarkbarkbarkbarkbarkbarkbarkbarkbarkbarkbarkbarkbarkbarkbarkbarkbarkbarkbarkbarkbarkbarkbarkbarkbarkbarkbarkbarkbarkbarkbarkbarkbarkbarkbarkbarkbarkbarkbarkbarkbarkbarkbarkbarkbarkbarkbarkbarkbarkbarkbarkbarkbarkbarkbarkbarkbarkbarkbarkbarkbarkbarkbarkbarkbarkbarkbarkbarkbarkbarkbarkbarkbarkbarkbarkbarkbarkbarkbarkbarkbarkbarkbarkbarkbarkbarkbarkbarkbarkbarkbarkbarkbarkbarkbarkbarkbarkbarkbarkbarkbarkbarkbarkbarkbarkbarkbarkbarkbarkbarkbarkbarkbarkbarkbarkbarkbarkbarkbarkbarkbarkbarkbarkbarkbarkbarkbarkbarkbarkbarkbarkbarkbarkbarkbarkbarkbarkbarkbarkbarkbarkbarkbarkbarkbarkbarkbarkbarkbarkbarkbarkbarkbarkbarkbarkbarkbarkbarkbarkbarkbarkbarkbarkbarkbarkbarkbarkbarkbarkbarkbarkbarkbarkbarkbarkbarkbarkbarkbarkbarkbarkbarkbarkbarkbarkbarkbarkbarkbark\n"
     ]
    },
    {
     "data": {
      "text/html": [
       "<div>\n",
       "<style scoped>\n",
       "    .dataframe tbody tr th:only-of-type {\n",
       "        vertical-align: middle;\n",
       "    }\n",
       "\n",
       "    .dataframe tbody tr th {\n",
       "        vertical-align: top;\n",
       "    }\n",
       "\n",
       "    .dataframe thead th {\n",
       "        text-align: right;\n",
       "    }\n",
       "</style>\n",
       "<table border=\"1\" class=\"dataframe\">\n",
       "  <thead>\n",
       "    <tr style=\"text-align: right;\">\n",
       "      <th></th>\n",
       "      <th>values</th>\n",
       "    </tr>\n",
       "  </thead>\n",
       "  <tbody>\n",
       "    <tr>\n",
       "      <th>name</th>\n",
       "      <td>Juninho</td>\n",
       "    </tr>\n",
       "    <tr>\n",
       "      <th>sound</th>\n",
       "      <td>bark, bark</td>\n",
       "    </tr>\n",
       "    <tr>\n",
       "      <th>num_limbs</th>\n",
       "      <td>4</td>\n",
       "    </tr>\n",
       "    <tr>\n",
       "      <th>state</th>\n",
       "      <td>RAGE</td>\n",
       "    </tr>\n",
       "    <tr>\n",
       "      <th>age</th>\n",
       "      <td>2</td>\n",
       "    </tr>\n",
       "  </tbody>\n",
       "</table>\n",
       "</div>"
      ],
      "text/plain": [
       "               values\n",
       "name          Juninho\n",
       "sound      bark, bark\n",
       "num_limbs           4\n",
       "state            RAGE\n",
       "age                 2"
      ]
     },
     "metadata": {},
     "output_type": "display_data"
    }
   ],
   "source": [
    "dog_jun = PinscherBot(\"Juninho\", 2)\n",
    "dog_jun.play()\n",
    "dog_jun.print()"
   ]
  },
  {
   "cell_type": "markdown",
   "metadata": {},
   "source": [
    "### Encapsulamento"
   ]
  },
  {
   "cell_type": "code",
   "execution_count": 11,
   "metadata": {},
   "outputs": [
    {
     "name": "stdout",
     "output_type": "stream",
     "text": [
      "Jeeves it's ALIVE!.\n"
     ]
    },
    {
     "data": {
      "text/html": [
       "<div>\n",
       "<style scoped>\n",
       "    .dataframe tbody tr th:only-of-type {\n",
       "        vertical-align: middle;\n",
       "    }\n",
       "\n",
       "    .dataframe tbody tr th {\n",
       "        vertical-align: top;\n",
       "    }\n",
       "\n",
       "    .dataframe thead th {\n",
       "        text-align: right;\n",
       "    }\n",
       "</style>\n",
       "<table border=\"1\" class=\"dataframe\">\n",
       "  <thead>\n",
       "    <tr style=\"text-align: right;\">\n",
       "      <th></th>\n",
       "      <th>values</th>\n",
       "    </tr>\n",
       "  </thead>\n",
       "  <tbody>\n",
       "    <tr>\n",
       "      <th>name</th>\n",
       "      <td>Jeeves</td>\n",
       "    </tr>\n",
       "    <tr>\n",
       "      <th>sound</th>\n",
       "      <td>bark, bark</td>\n",
       "    </tr>\n",
       "    <tr>\n",
       "      <th>num_limbs</th>\n",
       "      <td>8</td>\n",
       "    </tr>\n",
       "    <tr>\n",
       "      <th>state</th>\n",
       "      <td>29079047129470</td>\n",
       "    </tr>\n",
       "    <tr>\n",
       "      <th>age</th>\n",
       "      <td>5</td>\n",
       "    </tr>\n",
       "  </tbody>\n",
       "</table>\n",
       "</div>"
      ],
      "text/plain": [
       "                   values\n",
       "name               Jeeves\n",
       "sound          bark, bark\n",
       "num_limbs               8\n",
       "state      29079047129470\n",
       "age                     5"
      ]
     },
     "metadata": {},
     "output_type": "display_data"
    }
   ],
   "source": [
    "dog_jev = DogBot(\"Jeeves\", 5)\n",
    "\n",
    "dog_jev.num_limbs = 8\n",
    "dog_jev.state = \"Bamboozled\"\n",
    "\n",
    "# then the user get some ideas\n",
    "dog_jev.state = 29079047129470\n",
    "\n",
    "dog_jev.print()"
   ]
  },
  {
   "cell_type": "markdown",
   "metadata": {},
   "source": [
    "Como resultado temos:\n",
    "![encapsulamento](imgs/jeeves.png)"
   ]
  },
  {
   "cell_type": "markdown",
   "metadata": {},
   "source": [
    "Iremos usar de encapsulamento pra proteger os atributos e métodos que não queremos que sejam acessados diretamente"
   ]
  },
  {
   "cell_type": "markdown",
   "metadata": {},
   "source": [
    "Atributo **protegido** ```_atributo```\n",
    "\n",
    "Método **protegido** ```_metodo()```\n",
    "\n",
    "Atributo **privado** ```__atributo```\n",
    "\n",
    "Método **privado** ```__metodo()```\n",
    "\n",
    "também chamados na literatura de **privado** e **fortemente privado**"
   ]
  },
  {
   "cell_type": "code",
   "execution_count": 12,
   "metadata": {},
   "outputs": [],
   "source": [
    "class Robot:\n",
    "\n",
    "    def __init__(self, name, sound, num_limbs=4, state=\"alive\"):\n",
    "        self.__name = name\n",
    "        self.__sound = sound\n",
    "        self.__num_limbs = num_limbs\n",
    "        self.__state = state\n",
    "        print(self.__name+ ' it\\'s ALIVE!.')\n",
    "\n",
    "    def lose_limb(self):\n",
    "        self.__state = \"losing limbs\"\n",
    "        self.__num_limbs -= 1\n",
    "        \n",
    "    def print(self):\n",
    "        display(pd.DataFrame.from_dict(data=vars(self), orient='index', columns=['values']))\n",
    "\n",
    "class DogBot(Robot):\n",
    "\n",
    "    def __init__(self, name, age, legs=4):\n",
    "        super().__init__(name, \"Hi, I\\'m a dog!\", legs)\n",
    "        self.__num_limbs\n",
    "        self.__age = age\n",
    "\n",
    "        print(self.name + \" the dog has arrived.\")\n",
    "\n",
    "    def bark(self):\n",
    "        self.__state = \"barking\"\n",
    "        self.says(\"bark bark!\")\n",
    "\n",
    "    def play(self):\n",
    "        self.__state = \"playing\"\n",
    "        print(self.__name + \" is playing.\")\n",
    "\n",
    "    def sleep(self):\n",
    "        self.__state = \"sleeping\"\n",
    "        print(self.__name + \" is sleeping.\")\n",
    "\n",
    "    def doginfo(self):\n",
    "        print(self.__name + \" is \" + str(self.__age) + \" year(s) old.\")\n",
    "\n",
    "    def birthday(self):\n",
    "        self.__age += 1"
   ]
  },
  {
   "cell_type": "code",
   "execution_count": 13,
   "metadata": {},
   "outputs": [
    {
     "name": "stdout",
     "output_type": "stream",
     "text": [
      "Jeeves it's ALIVE!.\n"
     ]
    },
    {
     "ename": "AttributeError",
     "evalue": "'DogBot' object has no attribute '_DogBot__num_limbs'",
     "output_type": "error",
     "traceback": [
      "\u001b[1;31m---------------------------------------------------------------------------\u001b[0m",
      "\u001b[1;31mAttributeError\u001b[0m                            Traceback (most recent call last)",
      "\u001b[1;32m<ipython-input-13-24f99f705563>\u001b[0m in \u001b[0;36m<module>\u001b[1;34m\u001b[0m\n\u001b[1;32m----> 1\u001b[1;33m \u001b[0mdog_jev\u001b[0m \u001b[1;33m=\u001b[0m \u001b[0mDogBot\u001b[0m\u001b[1;33m(\u001b[0m\u001b[1;34m\"Jeeves\"\u001b[0m\u001b[1;33m,\u001b[0m \u001b[1;36m5\u001b[0m\u001b[1;33m)\u001b[0m\u001b[1;33m\u001b[0m\u001b[1;33m\u001b[0m\u001b[0m\n\u001b[0m\u001b[0;32m      2\u001b[0m \u001b[1;33m\u001b[0m\u001b[0m\n\u001b[0;32m      3\u001b[0m \u001b[0mdog_jev\u001b[0m\u001b[1;33m.\u001b[0m\u001b[0m__num_limbs\u001b[0m \u001b[1;33m=\u001b[0m \u001b[1;36m8\u001b[0m\u001b[1;33m\u001b[0m\u001b[1;33m\u001b[0m\u001b[0m\n",
      "\u001b[1;32m<ipython-input-12-935abf26fb6d>\u001b[0m in \u001b[0;36m__init__\u001b[1;34m(self, name, age, legs)\u001b[0m\n\u001b[0;32m     19\u001b[0m     \u001b[1;32mdef\u001b[0m \u001b[0m__init__\u001b[0m\u001b[1;33m(\u001b[0m\u001b[0mself\u001b[0m\u001b[1;33m,\u001b[0m \u001b[0mname\u001b[0m\u001b[1;33m,\u001b[0m \u001b[0mage\u001b[0m\u001b[1;33m,\u001b[0m \u001b[0mlegs\u001b[0m\u001b[1;33m=\u001b[0m\u001b[1;36m4\u001b[0m\u001b[1;33m)\u001b[0m\u001b[1;33m:\u001b[0m\u001b[1;33m\u001b[0m\u001b[1;33m\u001b[0m\u001b[0m\n\u001b[0;32m     20\u001b[0m         \u001b[0msuper\u001b[0m\u001b[1;33m(\u001b[0m\u001b[1;33m)\u001b[0m\u001b[1;33m.\u001b[0m\u001b[0m__init__\u001b[0m\u001b[1;33m(\u001b[0m\u001b[0mname\u001b[0m\u001b[1;33m,\u001b[0m \u001b[1;34m\"Hi, I\\'m a dog!\"\u001b[0m\u001b[1;33m,\u001b[0m \u001b[0mlegs\u001b[0m\u001b[1;33m)\u001b[0m\u001b[1;33m\u001b[0m\u001b[1;33m\u001b[0m\u001b[0m\n\u001b[1;32m---> 21\u001b[1;33m         \u001b[0mself\u001b[0m\u001b[1;33m.\u001b[0m\u001b[0m__num_limbs\u001b[0m\u001b[1;33m\u001b[0m\u001b[1;33m\u001b[0m\u001b[0m\n\u001b[0m\u001b[0;32m     22\u001b[0m         \u001b[0mself\u001b[0m\u001b[1;33m.\u001b[0m\u001b[0m__age\u001b[0m \u001b[1;33m=\u001b[0m \u001b[0mage\u001b[0m\u001b[1;33m\u001b[0m\u001b[1;33m\u001b[0m\u001b[0m\n\u001b[0;32m     23\u001b[0m \u001b[1;33m\u001b[0m\u001b[0m\n",
      "\u001b[1;31mAttributeError\u001b[0m: 'DogBot' object has no attribute '_DogBot__num_limbs'"
     ]
    }
   ],
   "source": [
    "dog_jev = DogBot(\"Jeeves\", 5)\n",
    "\n",
    "dog_jev.__num_limbs = 8"
   ]
  },
  {
   "cell_type": "markdown",
   "metadata": {},
   "source": [
    "Beleza, agora temos:\n",
    "![protected_doggo](imgs/protected_doggo.png)"
   ]
  },
  {
   "cell_type": "markdown",
   "metadata": {},
   "source": [
    "Ok, mas e se quisermos que o usuário altere esses atributos mas checando se os valores são válidos por exemplo?"
   ]
  },
  {
   "cell_type": "markdown",
   "metadata": {},
   "source": [
    "Para acessar esses atributos usamos Getters e Setters que são métodos com objetivo de manter esse acesso controlado.\n",
    "\n",
    "Em Python temos duas opções de como implementar getters e setters:"
   ]
  },
  {
   "cell_type": "markdown",
   "metadata": {},
   "source": [
    "#### Getter e setters: maneira mais simples"
   ]
  },
  {
   "cell_type": "code",
   "execution_count": 14,
   "metadata": {},
   "outputs": [],
   "source": [
    "class Human():\n",
    "    def __init__(self):\n",
    "        self.__name = ''\n",
    "\n",
    "    def set_name(self, name):\n",
    "        if isinstance(name, str):\n",
    "            self.__name = name\n",
    "        else:\n",
    "            raise ValueError(\"Don't mess with my human: name should be str!\")\n",
    "            \n",
    "    def get_name(self):\n",
    "        return self.__name"
   ]
  },
  {
   "cell_type": "code",
   "execution_count": 15,
   "metadata": {},
   "outputs": [
    {
     "name": "stdout",
     "output_type": "stream",
     "text": [
      "The name of the girl who dropped the oven is Giovanna\n"
     ]
    },
    {
     "ename": "AttributeError",
     "evalue": "'Human' object has no attribute '__name'",
     "output_type": "error",
     "traceback": [
      "\u001b[1;31m---------------------------------------------------------------------------\u001b[0m",
      "\u001b[1;31mAttributeError\u001b[0m                            Traceback (most recent call last)",
      "\u001b[1;32m<ipython-input-15-120c33b2ec6b>\u001b[0m in \u001b[0;36m<module>\u001b[1;34m\u001b[0m\n\u001b[0;32m      4\u001b[0m \u001b[0mprint\u001b[0m\u001b[1;33m(\u001b[0m\u001b[1;34m'The girl who dropped the oven name is '\u001b[0m \u001b[1;33m+\u001b[0m \u001b[0mdropped_the_oven_girl\u001b[0m\u001b[1;33m.\u001b[0m\u001b[0mget_name\u001b[0m\u001b[1;33m(\u001b[0m\u001b[1;33m)\u001b[0m\u001b[1;33m)\u001b[0m\u001b[1;33m\u001b[0m\u001b[1;33m\u001b[0m\u001b[0m\n\u001b[0;32m      5\u001b[0m \u001b[1;33m\u001b[0m\u001b[0m\n\u001b[1;32m----> 6\u001b[1;33m \u001b[0mdropped_the_oven_girl\u001b[0m\u001b[1;33m.\u001b[0m\u001b[0m__name\u001b[0m\u001b[1;33m\u001b[0m\u001b[1;33m\u001b[0m\u001b[0m\n\u001b[0m",
      "\u001b[1;31mAttributeError\u001b[0m: 'Human' object has no attribute '__name'"
     ]
    }
   ],
   "source": [
    "dropped_the_oven_girl = Human()\n",
    "dropped_the_oven_girl.set_name('Giovanna')\n",
    "\n",
    "print('The girl who dropped the oven name is ' + dropped_the_oven_girl.get_name())\n",
    "\n",
    "dropped_the_oven_girl.__name"
   ]
  },
  {
   "cell_type": "markdown",
   "metadata": {},
   "source": [
    "#### Getter e setters: maneira mais pythonica"
   ]
  },
  {
   "cell_type": "code",
   "execution_count": 16,
   "metadata": {},
   "outputs": [],
   "source": [
    "class Human():\n",
    "    def __init__(self):\n",
    "        self.__name = ''\n",
    "\n",
    "    @property\n",
    "    def name(self):\n",
    "        return self.__name\n",
    "\n",
    "    @name.setter\n",
    "    def name(self, value):\n",
    "        if isinstance(value, str):\n",
    "            self.__name = value\n",
    "        else:\n",
    "            raise ValueError(\"Don't mess with my human: name should be str!\")"
   ]
  },
  {
   "cell_type": "code",
   "execution_count": 17,
   "metadata": {},
   "outputs": [
    {
     "name": "stdout",
     "output_type": "stream",
     "text": [
      "The balloon priest name is Adelir\n"
     ]
    },
    {
     "ename": "ValueError",
     "evalue": "Don't mess with my human: name should be str!",
     "output_type": "error",
     "traceback": [
      "\u001b[1;31m---------------------------------------------------------------------------\u001b[0m",
      "\u001b[1;31mValueError\u001b[0m                                Traceback (most recent call last)",
      "\u001b[1;32m<ipython-input-17-16a5a72dd121>\u001b[0m in \u001b[0;36m<module>\u001b[1;34m\u001b[0m\n\u001b[0;32m      4\u001b[0m \u001b[0mprint\u001b[0m\u001b[1;33m(\u001b[0m\u001b[1;34m'The balloon priest name is '\u001b[0m \u001b[1;33m+\u001b[0m \u001b[0mballoon_priest\u001b[0m\u001b[1;33m.\u001b[0m\u001b[0mname\u001b[0m\u001b[1;33m)\u001b[0m\u001b[1;33m\u001b[0m\u001b[1;33m\u001b[0m\u001b[0m\n\u001b[0;32m      5\u001b[0m \u001b[1;33m\u001b[0m\u001b[0m\n\u001b[1;32m----> 6\u001b[1;33m \u001b[0mballoon_priest\u001b[0m\u001b[1;33m.\u001b[0m\u001b[0mname\u001b[0m \u001b[1;33m=\u001b[0m \u001b[1;33m[\u001b[0m\u001b[1;33m]\u001b[0m\u001b[1;33m\u001b[0m\u001b[1;33m\u001b[0m\u001b[0m\n\u001b[0m",
      "\u001b[1;32m<ipython-input-16-336780b53a62>\u001b[0m in \u001b[0;36mname\u001b[1;34m(self, value)\u001b[0m\n\u001b[0;32m     12\u001b[0m             \u001b[0mself\u001b[0m\u001b[1;33m.\u001b[0m\u001b[0m__name\u001b[0m \u001b[1;33m=\u001b[0m \u001b[0mvalue\u001b[0m\u001b[1;33m\u001b[0m\u001b[1;33m\u001b[0m\u001b[0m\n\u001b[0;32m     13\u001b[0m         \u001b[1;32melse\u001b[0m\u001b[1;33m:\u001b[0m\u001b[1;33m\u001b[0m\u001b[1;33m\u001b[0m\u001b[0m\n\u001b[1;32m---> 14\u001b[1;33m             \u001b[1;32mraise\u001b[0m \u001b[0mValueError\u001b[0m\u001b[1;33m(\u001b[0m\u001b[1;34m\"Don't mess with my human: name should be str!\"\u001b[0m\u001b[1;33m)\u001b[0m\u001b[1;33m\u001b[0m\u001b[1;33m\u001b[0m\u001b[0m\n\u001b[0m",
      "\u001b[1;31mValueError\u001b[0m: Don't mess with my human: name should be str!"
     ]
    }
   ],
   "source": [
    "balloon_priest = Human()\n",
    "balloon_priest.name = 'Adelir'\n",
    "\n",
    "print('The balloon priest name is ' + balloon_priest.name)\n",
    "\n",
    "balloon_priest.name = []"
   ]
  },
  {
   "cell_type": "code",
   "execution_count": 18,
   "metadata": {},
   "outputs": [
    {
     "name": "stdout",
     "output_type": "stream",
     "text": [
      "Balance: 999990\n",
      "Balance: 10\n"
     ]
    }
   ],
   "source": [
    "\n",
    "class Account():\n",
    "    def __init__(self, account, client_id):\n",
    "        self.balance = 0\n",
    "        self.client_id = client_id\n",
    "        self.account = account\n",
    "\n",
    "    def deposit(self, amount):\n",
    "        self.balance += amount\n",
    "\n",
    "    def withdrawn(self, amount):\n",
    "        self.balance -= amount\n",
    "        return amount\n",
    "    \n",
    "    def print_balance(self):\n",
    "        print('Balance: '+str(self.balance))\n",
    "\n",
    "# Instaciamos um objeto de conta pro cliente Franklin\n",
    "frpedfr_acc = Account(66450, 250124821)\n",
    "# Instaciamos um objeto de conta pro cliente Kleber\n",
    "ykleber_acc = Account(55131, 923749522)\n",
    "\n",
    "# Cliente Franklin recebe seu salário milionário\n",
    "frpedfr_acc.deposit(1000000)\n",
    "# Cliente Franklin saca 10 reais\n",
    "transf = frpedfr_acc.withdrawn(10)\n",
    "# E paga uma dívida ao cliente Kleber\n",
    "ykleber_acc.deposit(transf)\n",
    "\n",
    "frpedfr_acc.print_balance()\n",
    "ykleber_acc.print_balance()"
   ]
  },
  {
   "cell_type": "markdown",
   "metadata": {},
   "source": [
    "### Docstrings + Type hints + Default params"
   ]
  },
  {
   "cell_type": "code",
   "execution_count": 19,
   "metadata": {},
   "outputs": [],
   "source": [
    "class Robot:\n",
    "    \"\"\"\n",
    "    A class used to represent a Robot\n",
    "\n",
    "    ...\n",
    "\n",
    "    Attributes\n",
    "    ----------\n",
    "    says_str : str\n",
    "        a formatted string to print out what the robot says\n",
    "    name : str\n",
    "        the name of the robot\n",
    "    sound : str\n",
    "        the sound that the robot makes\n",
    "    num_legs : int\n",
    "        the number of legs the robot has (default 4)\n",
    "\n",
    "    Methods\n",
    "    -------\n",
    "    says(sound=None)\n",
    "        Prints the robots name and what sound it makes\n",
    "    \"\"\"\n",
    "\n",
    "    says_str = \"{name} says {sound}\"\n",
    "\n",
    "    def __init__(self, name: str, sound: str, num_legs: int = 4, state: str = \"alive\"):\n",
    "        \"\"\"\n",
    "        Parameters\n",
    "        ----------\n",
    "        name : str\n",
    "            The name of the robot\n",
    "        sound : str\n",
    "            The sound the robot makes\n",
    "        num_legs : int, optional\n",
    "            The number of legs the robot (default is 4)\n",
    "        \"\"\"\n",
    "\n",
    "        self.name = name\n",
    "        self.sound = sound\n",
    "        self.num_legs = num_legs\n",
    "        self.state = state\n",
    "\n",
    "    def says(self, sound: str = None) -> None:\n",
    "        \"\"\"Prints what the robot name is and what sound it makes.\n",
    "\n",
    "        If the argument `sound` isn't passed in, the default Robot\n",
    "        sound is used.\n",
    "\n",
    "        Parameters\n",
    "        ----------\n",
    "        sound : str, optional\n",
    "            The sound the robot makes (default is None)\n",
    "\n",
    "        Raises\n",
    "        ------\n",
    "        NotImplementedError\n",
    "            If no sound is set for the robot or passed in as a\n",
    "            parameter.\n",
    "        \"\"\"\n",
    "\n",
    "        if self.sound is None and sound is None:\n",
    "            raise NotImplementedError(\"Silent Robots are not supported!\")\n",
    "\n",
    "        out_sound = self.sound if sound is None else sound\n",
    "        print(self.says_str.format(name=self.name, sound=out_sound))"
   ]
  },
  {
   "cell_type": "markdown",
   "metadata": {},
   "source": [
    "Digite:\n",
    "\n",
    "Robot. \n",
    "\n",
    "e aperte shift+Tab "
   ]
  },
  {
   "cell_type": "code",
   "execution_count": null,
   "metadata": {},
   "outputs": [],
   "source": []
  },
  {
   "cell_type": "markdown",
   "metadata": {},
   "source": [
    "**MAGIC**\n",
    "\n",
    "Tente também:"
   ]
  },
  {
   "cell_type": "code",
   "execution_count": null,
   "metadata": {},
   "outputs": [],
   "source": [
    "new_bot = Robot(\"new bot\", \"bip bop\")"
   ]
  },
  {
   "cell_type": "markdown",
   "metadata": {},
   "source": [
    "Coloque o cursor dentro dos parênteses e aperte shift+TAB"
   ]
  },
  {
   "cell_type": "code",
   "execution_count": null,
   "metadata": {},
   "outputs": [],
   "source": [
    "new_bot.says()"
   ]
  },
  {
   "cell_type": "markdown",
   "metadata": {},
   "source": [
    "### Mais exemplos"
   ]
  },
  {
   "cell_type": "code",
   "execution_count": null,
   "metadata": {},
   "outputs": [],
   "source": []
  },
  {
   "cell_type": "code",
   "execution_count": null,
   "metadata": {},
   "outputs": [],
   "source": []
  },
  {
   "cell_type": "code",
   "execution_count": null,
   "metadata": {},
   "outputs": [],
   "source": []
  },
  {
   "cell_type": "markdown",
   "metadata": {},
   "source": [
    "### Finalizando"
   ]
  },
  {
   "cell_type": "markdown",
   "metadata": {},
   "source": [
    "Falamos sobre:\n",
    "1. Classes\n",
    "2. Métodos\n",
    "3. Atributos\n",
    "4. Docstrings\n",
    "5. Typing hints\n",
    "6. Default params\n",
    "\n",
    "\n",
    "Here comes a new challenger!\n",
    "No próximo episódio:\n",
    "1. @staticmethod\n",
    "2. @classmethod\n",
    "3. Magic methods\n",
    "4. Assertion\n",
    "5. Errors\n",
    "6. Maps\n",
    "7. Iterators\n",
    "8. Generators\n",
    "9. transforms\n",
    "10. Logging\n",
    "11. Tests\n",
    "12. Eficiência\n",
    "\n",
    "Entre outros..."
   ]
  },
  {
   "cell_type": "markdown",
   "metadata": {},
   "source": [
    "### Mais informações e bibliografia"
   ]
  },
  {
   "cell_type": "markdown",
   "metadata": {},
   "source": [
    "https://python.swaroopch.com/oop.html\n",
    "\n",
    "https://python-textbok.readthedocs.io/en/1.0/Classes.html\n",
    "\n",
    "https://www.datacamp.com/community/tutorials/python-oop-tutorial\n",
    "\n",
    "http://www.lcad.icmc.usp.br/~jbatista/sce537/mat/aula06_heranca.pdf"
   ]
  }
 ],
 "metadata": {
  "kernelspec": {
   "display_name": "Python 3",
   "language": "python",
   "name": "python3"
  },
  "language_info": {
   "codemirror_mode": {
    "name": "ipython",
    "version": 3
   },
   "file_extension": ".py",
   "mimetype": "text/x-python",
   "name": "python",
   "nbconvert_exporter": "python",
   "pygments_lexer": "ipython3",
   "version": "3.7.6"
  }
 },
 "nbformat": 4,
 "nbformat_minor": 4
}
